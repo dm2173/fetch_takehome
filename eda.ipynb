{
 "cells": [
  {
   "cell_type": "code",
   "execution_count": null,
   "metadata": {},
   "outputs": [],
   "source": [
    "import pandas as pd\n",
    "import json"
   ]
  },
  {
   "cell_type": "code",
   "execution_count": 48,
   "metadata": {},
   "outputs": [
    {
     "data": {
      "text/plain": [
       "barcode\n",
       "511111004790    2\n",
       "511111204923    2\n",
       "511111305125    2\n",
       "511111504139    2\n",
       "511111504788    2\n",
       "511111605058    2\n",
       "511111704140    2\n",
       "Name: _id, dtype: int64"
      ]
     },
     "execution_count": 48,
     "metadata": {},
     "output_type": "execute_result"
    }
   ],
   "source": [
    "brands=pd.read_json('brands.json', lines=True)\n",
    "counts_by_barcode=brands.groupby('barcode').count()['_id']\n",
    "counts_by_barcode[counts_by_barcode>1]"
   ]
  },
  {
   "cell_type": "markdown",
   "metadata": {},
   "source": [
    "We see a few barcodes are used by multiple brands, this is an issue as it is the only potential join from the receipt items"
   ]
  },
  {
   "cell_type": "code",
   "execution_count": 90,
   "metadata": {},
   "outputs": [
    {
     "name": "stdout",
     "output_type": "stream",
     "text": [
      "there are 440 records without an items record, which is 39.32% of all records\n"
     ]
    }
   ],
   "source": [
    "data=[]\n",
    "items=[]\n",
    "missing_items=0\n",
    "with open('receipts.json') as f:\n",
    "    for line in f:\n",
    "        data.append(json.loads(line))\n",
    "for el in data:\n",
    "    try:\n",
    "        for item in el['rewardsReceiptItemList']:\n",
    "            items.append({'receiptID':el['_id'], **item})\n",
    "    except:\n",
    "        missing_items += 1\n",
    "print(f'there are {missing_items} records without an items record, which is {round(100*missing_items/len(data), 2)}% of all records')\n"
   ]
  },
  {
   "cell_type": "code",
   "execution_count": 50,
   "metadata": {},
   "outputs": [],
   "source": [
    "items_df=pd.DataFrame(items)"
   ]
  },
  {
   "cell_type": "code",
   "execution_count": 57,
   "metadata": {},
   "outputs": [
    {
     "data": {
      "text/html": [
       "<div>\n",
       "<style scoped>\n",
       "    .dataframe tbody tr th:only-of-type {\n",
       "        vertical-align: middle;\n",
       "    }\n",
       "\n",
       "    .dataframe tbody tr th {\n",
       "        vertical-align: top;\n",
       "    }\n",
       "\n",
       "    .dataframe thead th {\n",
       "        text-align: right;\n",
       "    }\n",
       "</style>\n",
       "<table border=\"1\" class=\"dataframe\">\n",
       "  <thead>\n",
       "    <tr style=\"text-align: right;\">\n",
       "      <th></th>\n",
       "      <th>column_name</th>\n",
       "      <th>percent_missing</th>\n",
       "    </tr>\n",
       "  </thead>\n",
       "  <tbody>\n",
       "    <tr>\n",
       "      <th>receiptID</th>\n",
       "      <td>receiptID</td>\n",
       "      <td>0.000000</td>\n",
       "    </tr>\n",
       "    <tr>\n",
       "      <th>barcode</th>\n",
       "      <td>barcode</td>\n",
       "      <td>55.481919</td>\n",
       "    </tr>\n",
       "    <tr>\n",
       "      <th>description</th>\n",
       "      <td>description</td>\n",
       "      <td>5.489123</td>\n",
       "    </tr>\n",
       "    <tr>\n",
       "      <th>itemPrice</th>\n",
       "      <td>itemPrice</td>\n",
       "      <td>2.506843</td>\n",
       "    </tr>\n",
       "    <tr>\n",
       "      <th>quantityPurchased</th>\n",
       "      <td>quantityPurchased</td>\n",
       "      <td>2.506843</td>\n",
       "    </tr>\n",
       "  </tbody>\n",
       "</table>\n",
       "</div>"
      ],
      "text/plain": [
       "                         column_name  percent_missing\n",
       "receiptID                  receiptID         0.000000\n",
       "barcode                      barcode        55.481919\n",
       "description              description         5.489123\n",
       "itemPrice                  itemPrice         2.506843\n",
       "quantityPurchased  quantityPurchased         2.506843"
      ]
     },
     "execution_count": 57,
     "metadata": {},
     "output_type": "execute_result"
    }
   ],
   "source": [
    "percent_missing = items_df[['receiptID','barcode','description','itemPrice','quantityPurchased']].isnull().sum() * 100 / len(items_df)\n",
    "missing_value_df = pd.DataFrame({'column_name': ['receiptID','barcode','description','itemPrice','quantityPurchased'],\n",
    "                                 'percent_missing': percent_missing})\n",
    "missing_value_df"
   ]
  },
  {
   "cell_type": "markdown",
   "metadata": {},
   "source": [
    "We are missing a large percentage of barcodes as well, which means we do not know what was actually purchased if we wanted to line it back up with brands"
   ]
  },
  {
   "cell_type": "code",
   "execution_count": 113,
   "metadata": {},
   "outputs": [
    {
     "data": {
      "text/html": [
       "<div>\n",
       "<style scoped>\n",
       "    .dataframe tbody tr th:only-of-type {\n",
       "        vertical-align: middle;\n",
       "    }\n",
       "\n",
       "    .dataframe tbody tr th {\n",
       "        vertical-align: top;\n",
       "    }\n",
       "\n",
       "    .dataframe thead th {\n",
       "        text-align: right;\n",
       "    }\n",
       "</style>\n",
       "<table border=\"1\" class=\"dataframe\">\n",
       "  <thead>\n",
       "    <tr style=\"text-align: right;\">\n",
       "      <th></th>\n",
       "      <th>column_name</th>\n",
       "      <th>percent_missing</th>\n",
       "    </tr>\n",
       "  </thead>\n",
       "  <tbody>\n",
       "    <tr>\n",
       "      <th>_id</th>\n",
       "      <td>_id</td>\n",
       "      <td>0.000000</td>\n",
       "    </tr>\n",
       "    <tr>\n",
       "      <th>bonusPointsEarned</th>\n",
       "      <td>bonusPointsEarned</td>\n",
       "      <td>51.385165</td>\n",
       "    </tr>\n",
       "    <tr>\n",
       "      <th>bonusPointsEarnedReason</th>\n",
       "      <td>bonusPointsEarnedReason</td>\n",
       "      <td>51.385165</td>\n",
       "    </tr>\n",
       "    <tr>\n",
       "      <th>createDate</th>\n",
       "      <td>createDate</td>\n",
       "      <td>0.000000</td>\n",
       "    </tr>\n",
       "    <tr>\n",
       "      <th>dateScanned</th>\n",
       "      <td>dateScanned</td>\n",
       "      <td>0.000000</td>\n",
       "    </tr>\n",
       "    <tr>\n",
       "      <th>finishedDate</th>\n",
       "      <td>finishedDate</td>\n",
       "      <td>49.240393</td>\n",
       "    </tr>\n",
       "    <tr>\n",
       "      <th>modifyDate</th>\n",
       "      <td>modifyDate</td>\n",
       "      <td>0.000000</td>\n",
       "    </tr>\n",
       "    <tr>\n",
       "      <th>pointsAwardedDate</th>\n",
       "      <td>pointsAwardedDate</td>\n",
       "      <td>52.010724</td>\n",
       "    </tr>\n",
       "    <tr>\n",
       "      <th>pointsEarned</th>\n",
       "      <td>pointsEarned</td>\n",
       "      <td>45.576408</td>\n",
       "    </tr>\n",
       "    <tr>\n",
       "      <th>purchaseDate</th>\n",
       "      <td>purchaseDate</td>\n",
       "      <td>40.035746</td>\n",
       "    </tr>\n",
       "    <tr>\n",
       "      <th>purchasedItemCount</th>\n",
       "      <td>purchasedItemCount</td>\n",
       "      <td>43.252904</td>\n",
       "    </tr>\n",
       "    <tr>\n",
       "      <th>rewardsReceiptItemList</th>\n",
       "      <td>rewardsReceiptItemList</td>\n",
       "      <td>39.320822</td>\n",
       "    </tr>\n",
       "    <tr>\n",
       "      <th>rewardsReceiptStatus</th>\n",
       "      <td>rewardsReceiptStatus</td>\n",
       "      <td>0.000000</td>\n",
       "    </tr>\n",
       "    <tr>\n",
       "      <th>totalSpent</th>\n",
       "      <td>totalSpent</td>\n",
       "      <td>38.873995</td>\n",
       "    </tr>\n",
       "    <tr>\n",
       "      <th>userId</th>\n",
       "      <td>userId</td>\n",
       "      <td>0.000000</td>\n",
       "    </tr>\n",
       "  </tbody>\n",
       "</table>\n",
       "</div>"
      ],
      "text/plain": [
       "                                     column_name  percent_missing\n",
       "_id                                          _id         0.000000\n",
       "bonusPointsEarned              bonusPointsEarned        51.385165\n",
       "bonusPointsEarnedReason  bonusPointsEarnedReason        51.385165\n",
       "createDate                            createDate         0.000000\n",
       "dateScanned                          dateScanned         0.000000\n",
       "finishedDate                        finishedDate        49.240393\n",
       "modifyDate                            modifyDate         0.000000\n",
       "pointsAwardedDate              pointsAwardedDate        52.010724\n",
       "pointsEarned                        pointsEarned        45.576408\n",
       "purchaseDate                        purchaseDate        40.035746\n",
       "purchasedItemCount            purchasedItemCount        43.252904\n",
       "rewardsReceiptItemList    rewardsReceiptItemList        39.320822\n",
       "rewardsReceiptStatus        rewardsReceiptStatus         0.000000\n",
       "totalSpent                            totalSpent        38.873995\n",
       "userId                                    userId         0.000000"
      ]
     },
     "execution_count": 113,
     "metadata": {},
     "output_type": "execute_result"
    }
   ],
   "source": [
    "receipts=pd.DataFrame(data)\n",
    "percent_missing = receipts.isnull().sum() * 100 / len(receipts)\n",
    "missing_value_df = pd.DataFrame({'column_name': receipts.columns,\n",
    "                                 'percent_missing': percent_missing})\n",
    "missing_value_df\n"
   ]
  },
  {
   "cell_type": "markdown",
   "metadata": {},
   "source": [
    "Total spend, purchasedItemCount, and points earned are all missing significant numbers, we are a rewards company so missing this data is pretty bad"
   ]
  },
  {
   "cell_type": "code",
   "execution_count": null,
   "metadata": {},
   "outputs": [],
   "source": []
  },
  {
   "cell_type": "code",
   "execution_count": 111,
   "metadata": {},
   "outputs": [
    {
     "data": {
      "text/plain": [
       "Text(0.5, 0, 'points earned')"
      ]
     },
     "execution_count": 111,
     "metadata": {},
     "output_type": "execute_result"
    },
    {
     "data": {
      "image/png": "[encoded data removed]",
      "text/plain": [
       "<Figure size 640x480 with 1 Axes>"
      ]
     },
     "metadata": {},
     "output_type": "display_data"
    }
   ],
   "source": [
    "pe = receipts.pointsEarned.astype('float')\n",
    "pe.hist().set_xlabel('points earned')"
   ]
  },
  {
   "cell_type": "code",
   "execution_count": 64,
   "metadata": {},
   "outputs": [
    {
     "name": "stdout",
     "output_type": "stream",
     "text": [
      "potential values for role (dataset said all should be consumer) ['consumer' 'fetch-staff']. \n",
      "this shows that fetch staff should be cleaned up before going into production\n"
     ]
    }
   ],
   "source": [
    "users=pd.read_json('users.json', lines=True)\n",
    "print(f'''potential values for role (dataset said all should be consumer) {users.role.unique()}. \n",
    "this shows that fetch staff should be cleaned up before going into production''')"
   ]
  },
  {
   "cell_type": "code",
   "execution_count": 80,
   "metadata": {},
   "outputs": [
    {
     "name": "stdout",
     "output_type": "stream",
     "text": [
      "potential values for signUpSource  ['Email' 'Google' nan]. \n",
      "this shows that its a potential field to segment on, but there are null values\n"
     ]
    }
   ],
   "source": [
    "users_clean= users[users['role']=='consumer'].copy()\n",
    "print(f'''potential values for signUpSource  {users_clean.signUpSource.unique()}. \n",
    "this shows that its a potential field to segment on, but there are null values''')"
   ]
  },
  {
   "cell_type": "code",
   "execution_count": 71,
   "metadata": {},
   "outputs": [
    {
     "data": {
      "text/html": [
       "<div>\n",
       "<style scoped>\n",
       "    .dataframe tbody tr th:only-of-type {\n",
       "        vertical-align: middle;\n",
       "    }\n",
       "\n",
       "    .dataframe tbody tr th {\n",
       "        vertical-align: top;\n",
       "    }\n",
       "\n",
       "    .dataframe thead th {\n",
       "        text-align: right;\n",
       "    }\n",
       "</style>\n",
       "<table border=\"1\" class=\"dataframe\">\n",
       "  <thead>\n",
       "    <tr style=\"text-align: right;\">\n",
       "      <th></th>\n",
       "      <th>column_name</th>\n",
       "      <th>percent_missing</th>\n",
       "    </tr>\n",
       "  </thead>\n",
       "  <tbody>\n",
       "    <tr>\n",
       "      <th>_id</th>\n",
       "      <td>_id</td>\n",
       "      <td>0.000000</td>\n",
       "    </tr>\n",
       "    <tr>\n",
       "      <th>active</th>\n",
       "      <td>active</td>\n",
       "      <td>0.000000</td>\n",
       "    </tr>\n",
       "    <tr>\n",
       "      <th>createdDate</th>\n",
       "      <td>createdDate</td>\n",
       "      <td>0.000000</td>\n",
       "    </tr>\n",
       "    <tr>\n",
       "      <th>lastLogin</th>\n",
       "      <td>lastLogin</td>\n",
       "      <td>12.525253</td>\n",
       "    </tr>\n",
       "    <tr>\n",
       "      <th>role</th>\n",
       "      <td>role</td>\n",
       "      <td>0.000000</td>\n",
       "    </tr>\n",
       "    <tr>\n",
       "      <th>signUpSource</th>\n",
       "      <td>signUpSource</td>\n",
       "      <td>1.818182</td>\n",
       "    </tr>\n",
       "    <tr>\n",
       "      <th>state</th>\n",
       "      <td>state</td>\n",
       "      <td>3.030303</td>\n",
       "    </tr>\n",
       "  </tbody>\n",
       "</table>\n",
       "</div>"
      ],
      "text/plain": [
       "               column_name  percent_missing\n",
       "_id                    _id         0.000000\n",
       "active              active         0.000000\n",
       "createdDate    createdDate         0.000000\n",
       "lastLogin        lastLogin        12.525253\n",
       "role                  role         0.000000\n",
       "signUpSource  signUpSource         1.818182\n",
       "state                state         3.030303"
      ]
     },
     "execution_count": 71,
     "metadata": {},
     "output_type": "execute_result"
    }
   ],
   "source": [
    "percent_missing = users_clean.isnull().sum() * 100 / len(users)\n",
    "missing_value_df = pd.DataFrame({'column_name': users.columns,\n",
    "                                 'percent_missing': percent_missing})\n",
    "missing_value_df"
   ]
  },
  {
   "cell_type": "markdown",
   "metadata": {},
   "source": []
  },
  {
   "cell_type": "code",
   "execution_count": null,
   "metadata": {},
   "outputs": [],
   "source": [
    "users_clean['_id'] = users_clean['_id'].astype(str)"
   ]
  },
  {
   "cell_type": "code",
   "execution_count": 87,
   "metadata": {},
   "outputs": [
    {
     "name": "stdout",
     "output_type": "stream",
     "text": [
      " of all the records in the users table 100.0 % are duplicated,\n",
      "and aside from removing piotential sources of error, we can reduce the table size by 50.61%\n",
      "we should consider cleaning up before pushing to production\n"
     ]
    }
   ],
   "source": [
    "print(f''' of all the records in the users table {100*len(users_clean._id.duplicated())/len(users_clean)} % are duplicated,\n",
    "and aside from removing piotential sources of error, we can reduce the table size by {round(100*(1-(len(users_clean._id.unique())/len(users_clean))),2)}%\n",
    "we should consider cleaning up before pushing to production''')"
   ]
  },
  {
   "cell_type": "code",
   "execution_count": null,
   "metadata": {},
   "outputs": [],
   "source": []
  }
 ],
 "metadata": {
  "kernelspec": {
   "display_name": "base",
   "language": "python",
   "name": "python3"
  },
  "language_info": {
   "codemirror_mode": {
    "name": "ipython",
    "version": 3
   },
   "file_extension": ".py",
   "mimetype": "text/x-python",
   "name": "python",
   "nbconvert_exporter": "python",
   "pygments_lexer": "ipython3",
   "version": "3.12.7"
  }
 },
 "nbformat": 4,
 "nbformat_minor": 2
}
